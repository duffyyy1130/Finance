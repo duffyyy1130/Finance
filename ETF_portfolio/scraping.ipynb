{
 "metadata": {
  "language_info": {
   "codemirror_mode": {
    "name": "ipython",
    "version": 3
   },
   "file_extension": ".py",
   "mimetype": "text/x-python",
   "name": "python",
   "nbconvert_exporter": "python",
   "pygments_lexer": "ipython3",
   "version": "3.8.0-final"
  },
  "orig_nbformat": 2,
  "kernelspec": {
   "name": "python3",
   "display_name": "Python 3.8.0 64-bit",
   "metadata": {
    "interpreter": {
     "hash": "fe5656c614ed49ae0d940a02e18a4e79e27ac1a6e7394b387f34db37ee0d3976"
    }
   }
  }
 },
 "nbformat": 4,
 "nbformat_minor": 2,
 "cells": [
  {
   "source": [
    "# scraping\n",
    "https://non-dimension.com/kabuka-scraping/#toc2 より  \n",
    "最後のセル”まとめコード”でほしい銘柄のすべての年度に渡ってスクレイピングを実行できます．"
   ],
   "cell_type": "markdown",
   "metadata": {}
  },
  {
   "cell_type": "code",
   "execution_count": 9,
   "metadata": {},
   "outputs": [],
   "source": [
    "from bs4 import BeautifulSoup\n",
    "import pandas as pd\n",
    "import requests\n",
    "from datetime import datetime"
   ]
  },
  {
   "source": [
    "## ページのhtmlを取得\n",
    "取得したい銘柄の株価データは、  \n",
    "https://kabuoji3.com/stock/以下に”/銘柄コード/年”  \n",
    "という形式で存在しているようです。"
   ],
   "cell_type": "markdown",
   "metadata": {}
  },
  {
   "cell_type": "code",
   "execution_count": 3,
   "metadata": {},
   "outputs": [],
   "source": [
    "y = 2019 #2019年\n",
    "stock_number = 6577 #好きな銘柄コード、今回はベスト・ワンドットコム\n",
    "url = 'https://kabuoji3.com/stock/{}/{}/'.format(stock_number,y)\n",
    "headers = {\n",
    "      \"User-Agent\": \"Mozilla/5.0 (Macintosh; Intel Mac OS X 10_15_6) AppleWebKit/605.1.15 (KHTML, like Gecko) Version/14.0.2 Safari/605.1.15 \"\n",
    "}\n",
    "soup = BeautifulSoup(requests.get(url, headers = headers).content,'html.parser')"
   ]
  },
  {
   "source": [
    "上記のようにBeautifulSoupでページのHTMLソースを取得すると以下のようなHTMLが得られます。"
   ],
   "cell_type": "markdown",
   "metadata": {}
  },
  {
   "cell_type": "code",
   "execution_count": 5,
   "metadata": {
    "tags": [
     "outputPrepend"
    ]
   },
   "outputs": [
    {
     "output_type": "stream",
     "name": "stdout",
     "text": [
      "\n<td>3275</td>\n<td>3300</td>\n<td>8800</td>\n<td>3300</td>\n</tr>\n\n<tr>\n<td>2019-07-17</td>\n<td>3250</td>\n<td>3295</td>\n<td>2990</td>\n<td>3260</td>\n<td>36600</td>\n<td>3260</td>\n</tr>\n\n<tr>\n<td>2019-07-18</td>\n<td>3210</td>\n<td>3210</td>\n<td>3140</td>\n<td>3150</td>\n<td>4500</td>\n<td>3150</td>\n</tr>\n\n<tr>\n<td>2019-07-19</td>\n<td>3150</td>\n<td>3420</td>\n<td>3150</td>\n<td>3360</td>\n<td>19300</td>\n<td>3360</td>\n</tr>\n\n<tr>\n<td>2019-07-22</td>\n<td>3290</td>\n<td>3425</td>\n<td>3275</td>\n<td>3400</td>\n<td>7500</td>\n<td>3400</td>\n</tr>\n\n<tr>\n<td>2019-07-23</td>\n<td>3395</td>\n<td>3565</td>\n<td>3380</td>\n<td>3525</td>\n<td>16600</td>\n<td>3525</td>\n</tr>\n\n<tr>\n<td>2019-07-24</td>\n<td>3575</td>\n<td>3690</td>\n<td>3550</td>\n<td>3550</td>\n<td>26900</td>\n<td>3550</td>\n</tr>\n\n<tr>\n<td>2019-07-25</td>\n<td>3570</td>\n<td>3635</td>\n<td>3495</td>\n<td>3580</td>\n<td>5200</td>\n<td>3580</td>\n</tr>\n\n<tr>\n<td>2019-07-26</td>\n<td>3560</td>\n<td>3590</td>\n<td>3530</td>\n<td>3570</td>\n<td>4200</td>\n<td>3570</td>\n</tr>\n\n<tr>\n<td>2019-07-29</td>\n<td>3580</td>\n<td>3605</td>\n<td>3440</td>\n<td>3465</td>\n<td>10800</td>\n<td>3465</td>\n</tr>\n\n<tr>\n<td>2019-07-30</td>\n<td>3465</td>\n<td>3730</td>\n<td>3385</td>\n<td>3695</td>\n<td>22500</td>\n<td>3695</td>\n</tr>\n\n<tr>\n<td>2019-07-31</td>\n<td>3715</td>\n<td>3715</td>\n<td>3530</td>\n<td>3650</td>\n<td>27200</td>\n<td>3650</td>\n</tr>\n\n<tr>\n<td>2019-08-01</td>\n<td>3645</td>\n<td>3645</td>\n<td>3470</td>\n<td>3485</td>\n<td>11900</td>\n<td>3485</td>\n</tr>\n\n<tr>\n<td>2019-08-02</td>\n<td>3380</td>\n<td>3455</td>\n<td>3380</td>\n<td>3430</td>\n<td>9400</td>\n<td>3430</td>\n</tr>\n\n<tr>\n<td>2019-08-05</td>\n<td>3435</td>\n<td>3515</td>\n<td>3280</td>\n<td>3460</td>\n<td>16500</td>\n<td>3460</td>\n</tr>\n\n<tr>\n<td>2019-08-06</td>\n<td>3275</td>\n<td>3610</td>\n<td>3275</td>\n<td>3600</td>\n<td>18600</td>\n<td>3600</td>\n</tr>\n\n<tr>\n<td>2019-08-07</td>\n<td>3610</td>\n<td>3640</td>\n<td>3365</td>\n<td>3390</td>\n<td>13900</td>\n<td>3390</td>\n</tr>\n\n<tr>\n<td>2019-08-08</td>\n<td>3420</td>\n<td>3420</td>\n<td>3345</td>\n<td>3370</td>\n<td>9300</td>\n<td>3370</td>\n</tr>\n\n<tr>\n<td>2019-08-09</td>\n<td>3385</td>\n<td>3505</td>\n<td>3360</td>\n<td>3445</td>\n<td>7500</td>\n<td>3445</td>\n</tr>\n\n<tr>\n<td>2019-08-13</td>\n<td>3515</td>\n<td>3580</td>\n<td>3410</td>\n<td>3470</td>\n<td>17500</td>\n<td>3470</td>\n</tr>\n\n<tr>\n<td>2019-08-14</td>\n<td>3495</td>\n<td>3515</td>\n<td>3400</td>\n<td>3415</td>\n<td>10200</td>\n<td>3415</td>\n</tr>\n\n<tr>\n<td>2019-08-15</td>\n<td>3255</td>\n<td>3365</td>\n<td>3095</td>\n<td>3235</td>\n<td>24800</td>\n<td>3235</td>\n</tr>\n\n<tr>\n<td>2019-08-16</td>\n<td>3225</td>\n<td>3375</td>\n<td>3200</td>\n<td>3215</td>\n<td>14400</td>\n<td>3215</td>\n</tr>\n\n<tr>\n<td>2019-08-19</td>\n<td>3215</td>\n<td>3330</td>\n<td>3215</td>\n<td>3330</td>\n<td>5300</td>\n<td>3330</td>\n</tr>\n\n<tr>\n<td>2019-08-20</td>\n<td>3400</td>\n<td>3560</td>\n<td>3350</td>\n<td>3540</td>\n<td>11600</td>\n<td>3540</td>\n</tr>\n\n<tr>\n<td>2019-08-21</td>\n<td>3530</td>\n<td>3550</td>\n<td>3485</td>\n<td>3530</td>\n<td>4100</td>\n<td>3530</td>\n</tr>\n\n<tr>\n<td>2019-08-22</td>\n<td>3550</td>\n<td>3590</td>\n<td>3420</td>\n<td>3420</td>\n<td>6100</td>\n<td>3420</td>\n</tr>\n\n<tr>\n<td>2019-08-23</td>\n<td>3405</td>\n<td>3405</td>\n<td>3265</td>\n<td>3335</td>\n<td>2800</td>\n<td>3335</td>\n</tr>\n\n<tr>\n<td>2019-08-26</td>\n<td>3330</td>\n<td>3330</td>\n<td>3255</td>\n<td>3280</td>\n<td>3000</td>\n<td>3280</td>\n</tr>\n\n<tr>\n<td>2019-08-27</td>\n<td>3300</td>\n<td>3385</td>\n<td>3290</td>\n<td>3310</td>\n<td>2800</td>\n<td>3310</td>\n</tr>\n\n<tr>\n<td>2019-08-28</td>\n<td>3310</td>\n<td>3310</td>\n<td>3160</td>\n<td>3175</td>\n<td>7000</td>\n<td>3175</td>\n</tr>\n\n<tr>\n<td>2019-08-29</td>\n<td>3165</td>\n<td>3225</td>\n<td>3030</td>\n<td>3125</td>\n<td>10200</td>\n<td>3125</td>\n</tr>\n\n<tr>\n<td>2019-08-30</td>\n<td>3195</td>\n<td>3225</td>\n<td>3095</td>\n<td>3150</td>\n<td>8800</td>\n<td>3150</td>\n</tr>\n\n<tr>\n<td>2019-09-02</td>\n<td>3150</td>\n<td>3255</td>\n<td>3080</td>\n<td>3220</td>\n<td>5000</td>\n<td>3220</td>\n</tr>\n\n<tr>\n<td>2019-09-03</td>\n<td>3220</td>\n<td>3395</td>\n<td>3220</td>\n<td>3365</td>\n<td>6000</td>\n<td>3365</td>\n</tr>\n\n<tr>\n<td>2019-09-04</td>\n<td>3420</td>\n<td>3420</td>\n<td>3300</td>\n<td>3300</td>\n<td>4900</td>\n<td>3300</td>\n</tr>\n\n<tr>\n<td>2019-09-05</td>\n<td>3345</td>\n<td>3520</td>\n<td>3335</td>\n<td>3380</td>\n<td>14000</td>\n<td>3380</td>\n</tr>\n\n<tr>\n<td>2019-09-06</td>\n<td>3385</td>\n<td>3570</td>\n<td>3385</td>\n<td>3565</td>\n<td>7400</td>\n<td>3565</td>\n</tr>\n\n<tr>\n<td>2019-09-09</td>\n<td>3580</td>\n<td>3620</td>\n<td>3535</td>\n<td>3620</td>\n<td>16500</td>\n<td>3620</td>\n</tr>\n\n<tr>\n<td>2019-09-10</td>\n<td>3550</td>\n<td>3620</td>\n<td>3510</td>\n<td>3575</td>\n<td>11800</td>\n<td>3575</td>\n</tr>\n\n<tr>\n<td>2019-09-11</td>\n<td>3615</td>\n<td>3615</td>\n<td>3400</td>\n<td>3500</td>\n<td>20000</td>\n<td>3500</td>\n</tr>\n\n<tr>\n<td>2019-09-12</td>\n<td>3430</td>\n<td>3435</td>\n<td>2803</td>\n<td>2963</td>\n<td>70600</td>\n<td>2963</td>\n</tr>\n\n<tr>\n<td>2019-09-13</td>\n<td>2881</td>\n<td>2946</td>\n<td>2785</td>\n<td>2813</td>\n<td>29700</td>\n<td>2813</td>\n</tr>\n\n<tr>\n<td>2019-09-17</td>\n<td>2777</td>\n<td>2849</td>\n<td>2656</td>\n<td>2681</td>\n<td>21900</td>\n<td>2681</td>\n</tr>\n\n<tr>\n<td>2019-09-18</td>\n<td>2681</td>\n<td>2730</td>\n<td>2658</td>\n<td>2664</td>\n<td>6200</td>\n<td>2664</td>\n</tr>\n\n<tr>\n<td>2019-09-19</td>\n<td>2730</td>\n<td>2830</td>\n<td>2714</td>\n<td>2801</td>\n<td>15900</td>\n<td>2801</td>\n</tr>\n\n<tr>\n<td>2019-09-20</td>\n<td>2752</td>\n<td>2833</td>\n<td>2752</td>\n<td>2815</td>\n<td>6100</td>\n<td>2815</td>\n</tr>\n\n<tr>\n<td>2019-09-24</td>\n<td>2915</td>\n<td>2915</td>\n<td>2801</td>\n<td>2847</td>\n<td>5300</td>\n<td>2847</td>\n</tr>\n\n<tr>\n<td>2019-09-25</td>\n<td>2847</td>\n<td>2850</td>\n<td>2801</td>\n<td>2820</td>\n<td>2500</td>\n<td>2820</td>\n</tr>\n\n<tr>\n<td>2019-09-26</td>\n<td>2802</td>\n<td>2802</td>\n<td>2756</td>\n<td>2789</td>\n<td>3800</td>\n<td>2789</td>\n</tr>\n\n<tr>\n<td>2019-09-27</td>\n<td>2800</td>\n<td>2841</td>\n<td>2797</td>\n<td>2830</td>\n<td>3000</td>\n<td>2830</td>\n</tr>\n\n<tr>\n<td>2019-09-30</td>\n<td>2830</td>\n<td>2830</td>\n<td>2784</td>\n<td>2786</td>\n<td>1900</td>\n<td>2786</td>\n</tr>\n\n<tr>\n<td>2019-10-01</td>\n<td>2800</td>\n<td>2821</td>\n<td>2791</td>\n<td>2800</td>\n<td>600</td>\n<td>2800</td>\n</tr>\n\n<tr>\n<td>2019-10-02</td>\n<td>2780</td>\n<td>2803</td>\n<td>2774</td>\n<td>2790</td>\n<td>1500</td>\n<td>2790</td>\n</tr>\n\n<tr>\n<td>2019-10-03</td>\n<td>2780</td>\n<td>2782</td>\n<td>2770</td>\n<td>2772</td>\n<td>5100</td>\n<td>2772</td>\n</tr>\n\n<tr>\n<td>2019-10-04</td>\n<td>2774</td>\n<td>2851</td>\n<td>2774</td>\n<td>2833</td>\n<td>5100</td>\n<td>2833</td>\n</tr>\n\n<tr>\n<td>2019-10-07</td>\n<td>2881</td>\n<td>2881</td>\n<td>2793</td>\n<td>2794</td>\n<td>2100</td>\n<td>2794</td>\n</tr>\n\n<tr>\n<td>2019-10-08</td>\n<td>2798</td>\n<td>2827</td>\n<td>2773</td>\n<td>2808</td>\n<td>4100</td>\n<td>2808</td>\n</tr>\n\n<tr>\n<td>2019-10-09</td>\n<td>2844</td>\n<td>2864</td>\n<td>2792</td>\n<td>2813</td>\n<td>4200</td>\n<td>2813</td>\n</tr>\n\n<tr>\n<td>2019-10-10</td>\n<td>2813</td>\n<td>2829</td>\n<td>2791</td>\n<td>2813</td>\n<td>2300</td>\n<td>2813</td>\n</tr>\n\n<tr>\n<td>2019-10-11</td>\n<td>2814</td>\n<td>2814</td>\n<td>2750</td>\n<td>2755</td>\n<td>6000</td>\n<td>2755</td>\n</tr>\n\n<tr>\n<td>2019-10-15</td>\n<td>2955</td>\n<td>2955</td>\n<td>2809</td>\n<td>2816</td>\n<td>3000</td>\n<td>2816</td>\n</tr>\n\n<tr>\n<td>2019-10-16</td>\n<td>2827</td>\n<td>2880</td>\n<td>2798</td>\n<td>2815</td>\n<td>1700</td>\n<td>2815</td>\n</tr>\n\n<tr>\n<td>2019-10-17</td>\n<td>2797</td>\n<td>2862</td>\n<td>2797</td>\n<td>2814</td>\n<td>3100</td>\n<td>2814</td>\n</tr>\n\n<tr>\n<td>2019-10-18</td>\n<td>2869</td>\n<td>2869</td>\n<td>2810</td>\n<td>2814</td>\n<td>2400</td>\n<td>2814</td>\n</tr>\n\n<tr>\n<td>2019-10-21</td>\n<td>2815</td>\n<td>2851</td>\n<td>2800</td>\n<td>2821</td>\n<td>2200</td>\n<td>2821</td>\n</tr>\n\n<tr>\n<td>2019-10-23</td>\n<td>2821</td>\n<td>2821</td>\n<td>2780</td>\n<td>2794</td>\n<td>3400</td>\n<td>2794</td>\n</tr>\n\n<tr>\n<td>2019-10-24</td>\n<td>2794</td>\n<td>2794</td>\n<td>2724</td>\n<td>2748</td>\n<td>2300</td>\n<td>2748</td>\n</tr>\n\n<tr>\n<td>2019-10-25</td>\n<td>2745</td>\n<td>2795</td>\n<td>2745</td>\n<td>2765</td>\n<td>2600</td>\n<td>2765</td>\n</tr>\n\n<tr>\n<td>2019-10-28</td>\n<td>2765</td>\n<td>2788</td>\n<td>2765</td>\n<td>2780</td>\n<td>600</td>\n<td>2780</td>\n</tr>\n\n<tr>\n<td>2019-10-29</td>\n<td>2790</td>\n<td>2831</td>\n<td>2790</td>\n<td>2802</td>\n<td>5500</td>\n<td>2802</td>\n</tr>\n\n<tr>\n<td>2019-10-30</td>\n<td>2844</td>\n<td>2950</td>\n<td>2812</td>\n<td>2892</td>\n<td>13900</td>\n<td>2892</td>\n</tr>\n\n<tr>\n<td>2019-10-31</td>\n<td>2900</td>\n<td>2970</td>\n<td>2900</td>\n<td>2959</td>\n<td>2900</td>\n<td>2959</td>\n</tr>\n\n<tr>\n<td>2019-11-01</td>\n<td>2990</td>\n<td>3000</td>\n<td>2933</td>\n<td>2977</td>\n<td>4100</td>\n<td>2977</td>\n</tr>\n\n<tr>\n<td>2019-11-05</td>\n<td>3030</td>\n<td>3030</td>\n<td>2936</td>\n<td>2973</td>\n<td>2900</td>\n<td>2973</td>\n</tr>\n\n<tr>\n<td>2019-11-06</td>\n<td>2954</td>\n<td>2992</td>\n<td>2914</td>\n<td>2930</td>\n<td>4900</td>\n<td>2930</td>\n</tr>\n\n<tr>\n<td>2019-11-07</td>\n<td>2925</td>\n<td>2930</td>\n<td>2838</td>\n<td>2854</td>\n<td>3400</td>\n<td>2854</td>\n</tr>\n\n<tr>\n<td>2019-11-08</td>\n<td>2839</td>\n<td>2905</td>\n<td>2820</td>\n<td>2831</td>\n<td>4900</td>\n<td>2831</td>\n</tr>\n\n<tr>\n<td>2019-11-11</td>\n<td>2818</td>\n<td>2888</td>\n<td>2815</td>\n<td>2847</td>\n<td>1400</td>\n<td>2847</td>\n</tr>\n\n<tr>\n<td>2019-11-12</td>\n<td>2852</td>\n<td>2852</td>\n<td>2784</td>\n<td>2845</td>\n<td>3600</td>\n<td>2845</td>\n</tr>\n\n<tr>\n<td>2019-11-13</td>\n<td>2776</td>\n<td>2837</td>\n<td>2776</td>\n<td>2836</td>\n<td>1500</td>\n<td>2836</td>\n</tr>\n\n<tr>\n<td>2019-11-14</td>\n<td>2824</td>\n<td>2832</td>\n<td>2798</td>\n<td>2810</td>\n<td>1100</td>\n<td>2810</td>\n</tr>\n\n<tr>\n<td>2019-11-15</td>\n<td>2820</td>\n<td>2820</td>\n<td>2780</td>\n<td>2780</td>\n<td>2100</td>\n<td>2780</td>\n</tr>\n\n<tr>\n<td>2019-11-18</td>\n<td>2830</td>\n<td>2830</td>\n<td>2798</td>\n<td>2809</td>\n<td>1300</td>\n<td>2809</td>\n</tr>\n\n<tr>\n<td>2019-11-19</td>\n<td>2789</td>\n<td>2920</td>\n<td>2789</td>\n<td>2885</td>\n<td>6300</td>\n<td>2885</td>\n</tr>\n\n<tr>\n<td>2019-11-20</td>\n<td>2900</td>\n<td>3200</td>\n<td>2900</td>\n<td>3170</td>\n<td>35200</td>\n<td>3170</td>\n</tr>\n\n<tr>\n<td>2019-11-21</td>\n<td>3155</td>\n<td>3365</td>\n<td>3155</td>\n<td>3280</td>\n<td>29000</td>\n<td>3280</td>\n</tr>\n\n<tr>\n<td>2019-11-22</td>\n<td>3275</td>\n<td>3275</td>\n<td>3140</td>\n<td>3235</td>\n<td>9800</td>\n<td>3235</td>\n</tr>\n\n<tr>\n<td>2019-11-25</td>\n<td>3250</td>\n<td>3310</td>\n<td>3155</td>\n<td>3250</td>\n<td>10000</td>\n<td>3250</td>\n</tr>\n\n<tr>\n<td>2019-11-26</td>\n<td>3195</td>\n<td>3300</td>\n<td>3195</td>\n<td>3290</td>\n<td>2200</td>\n<td>3290</td>\n</tr>\n\n<tr>\n<td>2019-11-27</td>\n<td>3290</td>\n<td>3290</td>\n<td>3240</td>\n<td>3275</td>\n<td>2000</td>\n<td>3275</td>\n</tr>\n\n<tr>\n<td>2019-11-28</td>\n<td>3255</td>\n<td>3300</td>\n<td>3255</td>\n<td>3300</td>\n<td>3400</td>\n<td>3300</td>\n</tr>\n\n<tr>\n<td>2019-11-29</td>\n<td>3285</td>\n<td>3435</td>\n<td>3285</td>\n<td>3395</td>\n<td>9400</td>\n<td>3395</td>\n</tr>\n\n<tr>\n<td>2019-12-02</td>\n<td>3325</td>\n<td>3385</td>\n<td>3225</td>\n<td>3260</td>\n<td>5900</td>\n<td>3260</td>\n</tr>\n\n<tr>\n<td>2019-12-03</td>\n<td>3260</td>\n<td>3260</td>\n<td>3175</td>\n<td>3235</td>\n<td>5100</td>\n<td>3235</td>\n</tr>\n\n<tr>\n<td>2019-12-04</td>\n<td>3165</td>\n<td>3385</td>\n<td>3165</td>\n<td>3380</td>\n<td>6300</td>\n<td>3380</td>\n</tr>\n\n<tr>\n<td>2019-12-05</td>\n<td>3375</td>\n<td>3375</td>\n<td>3330</td>\n<td>3365</td>\n<td>2700</td>\n<td>3365</td>\n</tr>\n\n<tr>\n<td>2019-12-06</td>\n<td>3365</td>\n<td>3450</td>\n<td>3315</td>\n<td>3365</td>\n<td>13400</td>\n<td>3365</td>\n</tr>\n\n<tr>\n<td>2019-12-09</td>\n<td>3365</td>\n<td>3365</td>\n<td>3250</td>\n<td>3250</td>\n<td>6000</td>\n<td>3250</td>\n</tr>\n\n<tr>\n<td>2019-12-10</td>\n<td>3305</td>\n<td>3320</td>\n<td>3240</td>\n<td>3255</td>\n<td>4300</td>\n<td>3255</td>\n</tr>\n\n<tr>\n<td>2019-12-11</td>\n<td>3290</td>\n<td>3325</td>\n<td>3265</td>\n<td>3275</td>\n<td>3300</td>\n<td>3275</td>\n</tr>\n\n<tr>\n<td>2019-12-12</td>\n<td>3450</td>\n<td>3650</td>\n<td>3310</td>\n<td>3620</td>\n<td>93400</td>\n<td>3620</td>\n</tr>\n\n<tr>\n<td>2019-12-13</td>\n<td>3690</td>\n<td>3690</td>\n<td>3295</td>\n<td>3360</td>\n<td>47400</td>\n<td>3360</td>\n</tr>\n\n<tr>\n<td>2019-12-16</td>\n<td>3535</td>\n<td>3650</td>\n<td>3500</td>\n<td>3600</td>\n<td>27700</td>\n<td>3600</td>\n</tr>\n\n<tr>\n<td>2019-12-17</td>\n<td>3650</td>\n<td>3870</td>\n<td>3615</td>\n<td>3850</td>\n<td>50300</td>\n<td>3850</td>\n</tr>\n\n<tr>\n<td>2019-12-18</td>\n<td>3800</td>\n<td>4060</td>\n<td>3745</td>\n<td>4050</td>\n<td>43200</td>\n<td>4050</td>\n</tr>\n\n<tr>\n<td>2019-12-19</td>\n<td>4030</td>\n<td>4195</td>\n<td>3930</td>\n<td>4100</td>\n<td>29400</td>\n<td>4100</td>\n</tr>\n\n<tr>\n<td>2019-12-20</td>\n<td>4195</td>\n<td>4195</td>\n<td>3990</td>\n<td>4140</td>\n<td>20600</td>\n<td>4140</td>\n</tr>\n\n<tr>\n<td>2019-12-23</td>\n<td>4100</td>\n<td>4400</td>\n<td>4100</td>\n<td>4370</td>\n<td>27900</td>\n<td>4370</td>\n</tr>\n\n<tr>\n<td>2019-12-24</td>\n<td>4370</td>\n<td>5070</td>\n<td>4200</td>\n<td>5070</td>\n<td>82200</td>\n<td>5070</td>\n</tr>\n\n<tr>\n<td>2019-12-25</td>\n<td>4800</td>\n<td>5090</td>\n<td>4760</td>\n<td>5040</td>\n<td>59400</td>\n<td>5040</td>\n</tr>\n\n<tr>\n<td>2019-12-26</td>\n<td>5010</td>\n<td>5060</td>\n<td>4865</td>\n<td>5010</td>\n<td>24400</td>\n<td>5010</td>\n</tr>\n\n<tr>\n<td>2019-12-27</td>\n<td>4985</td>\n<td>5410</td>\n<td>4960</td>\n<td>5120</td>\n<td>30000</td>\n<td>5120</td>\n</tr>\n\n<tr>\n<td>2019-12-30</td>\n<td>4985</td>\n<td>5030</td>\n<td>4710</td>\n<td>5000</td>\n<td>33000</td>\n<td>5000</td>\n</tr>\n\n</table>\n</div>\n</div>\n</div>\n</div>\n<!-- ▼linkad -->\n<div class=\"main_adv\">\n<div class=\"adv_wrap\">\n<div class=\"rec\" style=\"text-align:center;\">\n<a href=\"https://px.a8.net/svt/ejp?a8mat=2ZL6YP+DOYXO2+CO4+15S78H\" rel=\"nofollow\">\n<img alt=\"\" border=\"0\" height=\"250\" src=\"https://www21.a8.net/svt/bgt?aid=180707713828&amp;wid=001&amp;eno=01&amp;mid=s00000001642007018000&amp;mc=1\" width=\"300\"/></a>\n<img alt=\"\" border=\"0\" height=\"1\" src=\"https://www16.a8.net/0.gif?a8mat=2ZL6YP+DOYXO2+CO4+15S78H\" width=\"1\"/>\n</div>\n</div>\n</div><!-- ▲linkad -->\n<div class=\"mt_10 tc\">\n<form action=\"https://kabuoji3.com/stock/download.php\" method=\"post\">\n<input name=\"code\" type=\"hidden\" value=\"6577\"/>\n<input name=\"year\" type=\"hidden\" value=\"2019\"/>\n<button class=\"btn_form btn_download\" name=\"csv\" type=\"submit\">CSVデータダウンロードページへ</button>\n</form>\n</div>\n\n﻿<div class=\"base_box_add\">\n<p class=\"pgp\">掲載データは万全を期してはおりますが、正確性、確実性を保証するものではありません。</p>\n<p class=\"pgp\">掲載中のデータを利用したことで生じた損害等についていかなる責任も負いません。　</p>\n</div>\n</div>\n</div>\n</section>\n</div>\n<!-- ▲メインコンテンツ -->\n<div id=\"side\">\n<!-- ▼sidead01 -->\n<aside class=\"side_adv\">\n<div class=\"adv_wrap\">\n<div class=\"adv square\">\n<a href=\"https://px.a8.net/svt/ejp?a8mat=2ZL5EO+7QNN6+CO4+69P01\" rel=\"nofollow\">\n<img alt=\"\" border=\"0\" height=\"280\" src=\"https://www21.a8.net/svt/bgt?aid=180705696013&amp;wid=001&amp;eno=01&amp;mid=s00000001642001053000&amp;mc=1\" width=\"336\"/></a>\n<img alt=\"\" border=\"0\" height=\"1\" src=\"https://www16.a8.net/0.gif?a8mat=2ZL5EO+7QNN6+CO4+69P01\" width=\"1\"/>\n</div>\n</div>\n</aside><!-- ▲sidead01 -->\n<!-- ▼サイドナビ -->\n<nav id=\"sNav\">\n<header class=\"side_header\">\n<h2 class=\"ttl\"><span class=\"txt\">Data Menu</span></h2>\n</header>\n<div class=\"side_body\">\n<ul id=\"sNav_list\">\n<li> <a href=\"https://kabuoji3.com/stock/\">\n<p class=\"item_wrap front\"> <i class=\"icon\"> <img alt=\"個別株価データ\" src=\"https://kabuoji3.com/images/common/icon_stock.png\" width=\"31\"/> </i><span class=\"txt\">個別株価データ</span> </p>\n<p class=\"item_wrap rear\"> <i class=\"icon\"> <img alt=\"個別株価データ\" src=\"https://kabuoji3.com/images/common/icon_stock.png\" width=\"31\"/> </i><span class=\"txt\">個別株価データ</span> </p>\n</a> </li>\n<li> <a href=\"https://kabuoji3.com/ranking/\">\n<p class=\"item_wrap front\"> <i class=\"icon\"> <img alt=\"株価ランキングデータ\" src=\"https://kabuoji3.com/images/common/icon_ranking.png\" width=\"31\"/> </i><span class=\"txt\">株価ランキングデータ</span> </p>\n<p class=\"item_wrap rear\"> <i class=\"icon\"> <img alt=\"株価ランキングデータ\" src=\"https://kabuoji3.com/images/common/icon_ranking.png\" width=\"31\"/> </i><span class=\"txt\">株価ランキングデータ</span> </p>\n</a> </li>\n<li> <a href=\"https://kabuoji3.com/orderbook/\">\n<p class=\"item_wrap front\"> <i class=\"icon\"> <img alt=\"寄前気配値ランキング\" src=\"https://kabuoji3.com/images/common/icon_orderbook.png\" width=\"31\"/> </i><span class=\"txt\">寄前気配値ランキング</span> </p>\n<p class=\"item_wrap rear\"> <i class=\"icon\"> <img alt=\"寄前気配値ランキング\" src=\"https://kabuoji3.com/images/common/icon_orderbook.png\" width=\"31\"/> </i><span class=\"txt\">寄前気配値ランキング</span> </p>\n</a> </li>\n<li> <a href=\"https://kabuoji3.com/stockholder/\">\n<p class=\"item_wrap front\"> <i class=\"icon\"> <img alt=\"株主優待データ、優待内容\" src=\"https://kabuoji3.com/images/common/icon_stockholder.png\" width=\"31\"/> </i><span class=\"txt\">株主優待データ</span> </p>\n<p class=\"item_wrap rear\"> <i class=\"icon\"> <img alt=\"株主優待データ、優待内容\" src=\"https://kabuoji3.com/images/common/icon_stockholder.png\" width=\"31\"/> </i><span class=\"txt\">株主優待データ</span> </p>\n</a> </li>\n<li> <a href=\"https://kabuoji3.com/negative/\">\n<p class=\"item_wrap front\"> <i class=\"icon\"> <img alt=\"逆日歩データ・逆日歩ランキング\" src=\"https://kabuoji3.com/images/common/icon_negative.png\" width=\"31\"/> </i><span class=\"txt\">逆日歩データ</span> </p>\n<p class=\"item_wrap rear\"> <i class=\"icon\"> <img alt=\"逆日歩データ・逆日歩ランキング\" src=\"https://kabuoji3.com/images/common/icon_negative.png\" width=\"31\"/> </i><span class=\"txt\">逆日歩データ</span> </p>\n</a> </li>\n</ul>\n</div>\n</nav><!-- ▲サイドナビ -->\n<!-- ▼sidead02 -->\n<aside class=\"side_adv\">\n<div class=\"adv_wrap\">\n<div class=\"adv\">\n<a href=\"https://px.a8.net/svt/ejp?a8mat=2ZHDZM+ADAT2Q+3250+67C4H\" rel=\"nofollow\">\n<img alt=\"\" border=\"0\" height=\"250\" src=\"https://www23.a8.net/svt/bgt?aid=180530194627&amp;wid=001&amp;eno=01&amp;mid=s00000014274001042000&amp;mc=1\" width=\"300\"/></a>\n</div>\n</div>\n<img alt=\"\" border=\"0\" height=\"0\" src=\"https://www19.a8.net/0.gif?a8mat=2ZHDZM+ADAT2Q+3250+67C4H\" width=\"0\"/>\n</aside><!-- ▲sidead02 -->\n<!-- ▼ニュース -->\n<!-- ▲ニュース -->\n</div>\n</div>\n</div>\n<!-- ▼パンくずー -->\n﻿<div id=\"clearance\">\n<div id=\"clearance_in\">\n<nav id=\"tp_path\">\n<ol>\n<li> <a class=\"txt home\" href=\"https://kabuoji3.com/\" itemprop=\"url\"> <span itemprop=\"title\">HOME</span> </a> </li>\n</ol>\n</nav>\n<p id=\"pageTop\"> <a class=\"scroll\" href=\"#wrapper\"> <span class=\"front\">PAGE TOP</span><span class=\"rear\">PAGE TOP</span> </a> </p>\n</div>\n</div><!-- ▲パンくずー -->\n<!-- ▼フッター -->\n<footer id=\"footer\">\n<div id=\"footer_top\">\n<p id=\"fLogo\"><img alt=\"株式投資メモ・株価データベース\" height=\"27\" src=\"https://kabuoji3.com/images/common/flogo.png\" width=\"161\"/></p>\n<div id=\"fNav_wrap\">\n<div id=\"fNav\">\n<ul>\n<li><a href=\"https://kabuoji3.com/\"><span class=\"txt\">HOME</span></a></li>\n</ul>\n<ul>\n<li><a href=\"https://kabuoji3.com/stock/\"><span class=\"txt\">個別株価データ</span></a></li>\n<li><a href=\"https://kabuoji3.com/ranking/\"><span class=\"txt\">株価ランキングデータ</span></a></li>\n<li><a href=\"https://kabuoji3.com/orderbook/\"><span class=\"txt\">寄前気配値速報</span></a></li>\n</ul>\n<ul>\n<li><a href=\"https://kabuoji3.com/stockholder/\"><span class=\"txt\">株主優待データ</span></a></li>\n<li><a href=\"https://kabuoji3.com/negative/\"><span class=\"txt\">逆日歩データ</span></a></li>\n</ul>\n</div>\n<div id=\"fIcons\">\n<ul>\n<li><a href=\"javascript:void(0);\" onclick=\"window.open('https://twitter.com/share?url='+encodeURIComponent(location.href)+'&amp;text='+encodeURIComponent(document.getElementsByName('description').item(0).content),'twitter','toolbar=no,width=550,height=300');return false;\"><img alt=\"Twitter\" height=\"36\" src=\"https://kabuoji3.com/images/common/icon_ftw.png\" width=\"36\"/></a></li>\n</ul>\n</div>\n</div>\n</div>\n<div id=\"footer_btm\"> <small id=\"copyright\">株式投資メモ・株価データベース</small>\n</div>\n</footer><!-- ▲フッター -->\n</div>\n</div>\n<!-- ▼js -->\n<script src=\"https://kabuoji3.com/js/core.js\"></script>\n<script src=\"https://kabuoji3.com/js/common.js\"></script>\n<script src=\"https://kabuoji3.com/js/TweenMax.min.js\"></script>\n<script src=\"https://kabuoji3.com/js/config.js\"></script><!-- ▲js -->\n<script>\n  (function(i,s,o,g,r,a,m){i['GoogleAnalyticsObject']=r;i[r]=i[r]||function(){\n  (i[r].q=i[r].q||[]).push(arguments)},i[r].l=1*new Date();a=s.createElement(o),\n  m=s.getElementsByTagName(o)[0];a.async=1;a.src=g;m.parentNode.insertBefore(a,m)\n  })(window,document,'script','https://www.google-analytics.com/analytics.js','ga');\n\n  ga('create', 'UA-78484946-1', 'auto');\n  ga('send', 'pageview');\n\n</script>\n</body>\n</html>\n\n"
     ]
    }
   ],
   "source": [
    "print(soup)"
   ]
  },
  {
   "source": [
    "## 株価データをデータフレーム化\n",
    "ページのHTMLの構成を頑張って調べていきます。\n",
    "調べると割と整ったテーブルになっており、trタグの中のthタグにテーブルのヘッドがあり、trタグの中のtdタグにデータが入っている構成でした。"
   ],
   "cell_type": "markdown",
   "metadata": {}
  },
  {
   "cell_type": "code",
   "execution_count": 6,
   "metadata": {},
   "outputs": [],
   "source": [
    "tag_tr = soup.find_all('tr')\n",
    "head = [h.text for h in tag_tr[0].find_all('th')] #テーブルのヘッドの取得\n",
    "\n",
    "#テーブルの各データの取得\n",
    "data = []\n",
    "for i in range(1,len(tag_tr)):\n",
    "    data.append([d.text for d in tag_tr[i].find_all('td')])\n",
    "    df = pd.DataFrame(data, columns = head)"
   ]
  },
  {
   "source": [
    "## テキストデータを数値、タイムスタンプに変換\n",
    "\n",
    "上で作成したdfを表示すると以下のようになっており、無事データフレーム化できたように思うのですが、見た目にはわからないのですが、実はすべてテキストデータなので、このままだとグラフを書いたりする時に扱いづらいままです。"
   ],
   "cell_type": "markdown",
   "metadata": {}
  },
  {
   "cell_type": "code",
   "execution_count": 7,
   "metadata": {},
   "outputs": [
    {
     "output_type": "stream",
     "name": "stdout",
     "text": [
      "             日付    始値    高値    安値    終値    出来高    終値調整\n0    2019-01-04  4210  4440  4105  4395   3400  2197.5\n1    2019-01-07  4420  4780  4420  4780   6200    2390\n2    2019-01-08  4920  5480  4920  5480   9800    2740\n3    2019-01-09  5480  6440  5320  5700  30100    2850\n4    2019-01-10  5600  5800  5550  5550   7000    2775\n..          ...   ...   ...   ...   ...    ...     ...\n236  2019-12-24  4370  5070  4200  5070  82200    5070\n237  2019-12-25  4800  5090  4760  5040  59400    5040\n238  2019-12-26  5010  5060  4865  5010  24400    5010\n239  2019-12-27  4985  5410  4960  5120  30000    5120\n240  2019-12-30  4985  5030  4710  5000  33000    5000\n\n[241 rows x 7 columns]\n"
     ]
    }
   ],
   "source": [
    "print(df)"
   ]
  },
  {
   "source": [
    "したがって、数字をfloatに、日付をタイムスタンプに変換します。"
   ],
   "cell_type": "markdown",
   "metadata": {}
  },
  {
   "cell_type": "code",
   "execution_count": 8,
   "metadata": {},
   "outputs": [],
   "source": [
    "col = ['始値','高値','安値','終値','出来高','終値調整']\n",
    "for c in col:\n",
    "    df[c] = df[c].astype(float)\n",
    "df['日付'] = [datetime.strptime(i,'%Y-%m-%d') for i in df['日付']]"
   ]
  },
  {
   "source": [
    "dfを再度表示すると以下のように数字の後ろに小数点が現れていると思います。（今回はわかりやすいようにfloatにしましたが、実際はintでも問題ありません）\n",
    "見た目ではわかりませんが、日付もタイムスタンプに変換されているはずです。"
   ],
   "cell_type": "markdown",
   "metadata": {}
  },
  {
   "cell_type": "code",
   "execution_count": 9,
   "metadata": {},
   "outputs": [
    {
     "output_type": "stream",
     "name": "stdout",
     "text": [
      "            日付      始値      高値      安値      終値      出来高    終値調整\n0   2019-01-04  4210.0  4440.0  4105.0  4395.0   3400.0  2197.5\n1   2019-01-07  4420.0  4780.0  4420.0  4780.0   6200.0  2390.0\n2   2019-01-08  4920.0  5480.0  4920.0  5480.0   9800.0  2740.0\n3   2019-01-09  5480.0  6440.0  5320.0  5700.0  30100.0  2850.0\n4   2019-01-10  5600.0  5800.0  5550.0  5550.0   7000.0  2775.0\n..         ...     ...     ...     ...     ...      ...     ...\n236 2019-12-24  4370.0  5070.0  4200.0  5070.0  82200.0  5070.0\n237 2019-12-25  4800.0  5090.0  4760.0  5040.0  59400.0  5040.0\n238 2019-12-26  5010.0  5060.0  4865.0  5010.0  24400.0  5010.0\n239 2019-12-27  4985.0  5410.0  4960.0  5120.0  30000.0  5120.0\n240 2019-12-30  4985.0  5030.0  4710.0  5000.0  33000.0  5000.0\n\n[241 rows x 7 columns]\n"
     ]
    }
   ],
   "source": [
    "print(df)"
   ]
  },
  {
   "source": [
    "## 複数年のデータの取得\n",
    "\n",
    "このサイトでは株価データが年ごとに別ページにわかれているので、ページをfor文で繰り返して取得する必要があります。あと、最終的にはすべての年を1つのデータフレームにしたいので、結合したほうが良いと思います。ということで以下のようなコードになります。"
   ],
   "cell_type": "markdown",
   "metadata": {}
  },
  {
   "cell_type": "code",
   "execution_count": 10,
   "metadata": {},
   "outputs": [],
   "source": [
    "#複数年のデータフレームの作成\n",
    "dfs = []\n",
    "year = [2018,2019]\n",
    "for y in year:\n",
    "    url = 'https://kabuoji3.com/stock/{}/{}/'.format(stock_number,y)\n",
    "    headers = {\n",
    "      \"User-Agent\": \"Mozilla/5.0 (Macintosh; Intel Mac OS X 10_15_6) AppleWebKit/605.1.15 (KHTML, like Gecko) Version/14.0.2 Safari/605.1.15 \"\n",
    "      }\n",
    "    soup = BeautifulSoup(requests.get(url, headers = headers).content,'html.parser')\n",
    "    tag_tr = soup.find_all('tr')\n",
    "    head = [h.text for h in tag_tr[0].find_all('th')]\n",
    "    data = []\n",
    "    for i in range(1,len(tag_tr)):\n",
    "        data.append([d.text for d in tag_tr[i].find_all('td')])\n",
    "    df = pd.DataFrame(data, columns = head)\n",
    "\n",
    "    col = ['始値','高値','安値','終値','出来高','終値調整']\n",
    "    for c in col:\n",
    "        df[c] = df[c].astype(float)\n",
    "    df['日付'] = [datetime.strptime(i,'%Y-%m-%d') for i in df['日付']]\n",
    "    dfs.append(df)\n",
    " \n",
    "#複数年のデータフレームの結合\n",
    "data = pd.concat(dfs,axis=0)\n",
    "data = data.reset_index(drop=True)"
   ]
  },
  {
   "cell_type": "code",
   "execution_count": 11,
   "metadata": {},
   "outputs": [
    {
     "output_type": "stream",
     "name": "stdout",
     "text": [
      "            日付      始値      高値      安値      終値      出来高    終値調整\n0   2019-01-04  4210.0  4440.0  4105.0  4395.0   3400.0  2197.5\n1   2019-01-07  4420.0  4780.0  4420.0  4780.0   6200.0  2390.0\n2   2019-01-08  4920.0  5480.0  4920.0  5480.0   9800.0  2740.0\n3   2019-01-09  5480.0  6440.0  5320.0  5700.0  30100.0  2850.0\n4   2019-01-10  5600.0  5800.0  5550.0  5550.0   7000.0  2775.0\n..         ...     ...     ...     ...     ...      ...     ...\n236 2019-12-24  4370.0  5070.0  4200.0  5070.0  82200.0  5070.0\n237 2019-12-25  4800.0  5090.0  4760.0  5040.0  59400.0  5040.0\n238 2019-12-26  5010.0  5060.0  4865.0  5010.0  24400.0  5010.0\n239 2019-12-27  4985.0  5410.0  4960.0  5120.0  30000.0  5120.0\n240 2019-12-30  4985.0  5030.0  4710.0  5000.0  33000.0  5000.0\n\n[241 rows x 7 columns]\n"
     ]
    }
   ],
   "source": [
    "print(df)"
   ]
  },
  {
   "source": [
    "## 取得した株価の銘柄リストを作成する\n",
    "\n",
    "自分が取得したい株価の銘柄リストを作成します。\n",
    "作成したリストをcsvにして以下のコードで読み込みます。"
   ],
   "cell_type": "markdown",
   "metadata": {}
  },
  {
   "cell_type": "code",
   "execution_count": 10,
   "metadata": {},
   "outputs": [
    {
     "output_type": "execute_result",
     "data": {
      "text/plain": [
       "   code                                name              連動対象    取引値  売買単位  \\\n",
       "0  1319        (NEXT FUNDS)日経300株価指数連動型上場投信             日経300    373  1000   \n",
       "1  1357         (NEXT FUNDS) 日経ダブルインバース上場投信      日経平均ダブルインバース    407     1   \n",
       "2  1311     (NEXT FUNDS)TOPIX Core30連動型上場投信      TOPIX Core30    913    10   \n",
       "3  1472        (NEXT FUNDS)JPX日経400ダブルインバース  JPX日経400ダブルインバース    922     1   \n",
       "4  2510       (NEXT FUNDS)国内債券・NOMURA-BPI総合      NOMURA-BPI総合    992    10   \n",
       "5  1571           (NEXT FUNDS)日経平均インバース上場投信         日経平均インバース    995     1   \n",
       "6  2529         (NEXT FUNDS)野村株主還元70連動型上場投信          野村株主還元70  1,043     1   \n",
       "7  2518  (NEXT FUNDS) MSCI日本株女性活躍(セレクト)上場投信   MSCI日本株女性活躍セレクト  1,120     1   \n",
       "8  1343         (NEXT FUNDS)東証REIT指数連動型上場投信          東証REIT指数  2,071    10   \n",
       "9  1471           (NEXT FUNDS)JPX日経400インバース     JPX日経400インバース  3,460     1   \n",
       "\n",
       "  運用会社 信託報酬（税抜）  \n",
       "0   野村    0.51%  \n",
       "1   野村    0.80%  \n",
       "2   野村    0.19%  \n",
       "3   野村    0.80%  \n",
       "4   野村    0.07%  \n",
       "5   野村    0.80%  \n",
       "6   野村    0.28%  \n",
       "7   野村    0.15%  \n",
       "8   野村    0.16%  \n",
       "9   野村    0.80%  "
      ],
      "text/html": "<div>\n<style scoped>\n    .dataframe tbody tr th:only-of-type {\n        vertical-align: middle;\n    }\n\n    .dataframe tbody tr th {\n        vertical-align: top;\n    }\n\n    .dataframe thead th {\n        text-align: right;\n    }\n</style>\n<table border=\"1\" class=\"dataframe\">\n  <thead>\n    <tr style=\"text-align: right;\">\n      <th></th>\n      <th>code</th>\n      <th>name</th>\n      <th>連動対象</th>\n      <th>取引値</th>\n      <th>売買単位</th>\n      <th>運用会社</th>\n      <th>信託報酬（税抜）</th>\n    </tr>\n  </thead>\n  <tbody>\n    <tr>\n      <th>0</th>\n      <td>1319</td>\n      <td>(NEXT FUNDS)日経300株価指数連動型上場投信</td>\n      <td>日経300</td>\n      <td>373</td>\n      <td>1000</td>\n      <td>野村</td>\n      <td>0.51%</td>\n    </tr>\n    <tr>\n      <th>1</th>\n      <td>1357</td>\n      <td>(NEXT FUNDS) 日経ダブルインバース上場投信</td>\n      <td>日経平均ダブルインバース</td>\n      <td>407</td>\n      <td>1</td>\n      <td>野村</td>\n      <td>0.80%</td>\n    </tr>\n    <tr>\n      <th>2</th>\n      <td>1311</td>\n      <td>(NEXT FUNDS)TOPIX Core30連動型上場投信</td>\n      <td>TOPIX Core30</td>\n      <td>913</td>\n      <td>10</td>\n      <td>野村</td>\n      <td>0.19%</td>\n    </tr>\n    <tr>\n      <th>3</th>\n      <td>1472</td>\n      <td>(NEXT FUNDS)JPX日経400ダブルインバース</td>\n      <td>JPX日経400ダブルインバース</td>\n      <td>922</td>\n      <td>1</td>\n      <td>野村</td>\n      <td>0.80%</td>\n    </tr>\n    <tr>\n      <th>4</th>\n      <td>2510</td>\n      <td>(NEXT FUNDS)国内債券・NOMURA-BPI総合</td>\n      <td>NOMURA-BPI総合</td>\n      <td>992</td>\n      <td>10</td>\n      <td>野村</td>\n      <td>0.07%</td>\n    </tr>\n    <tr>\n      <th>5</th>\n      <td>1571</td>\n      <td>(NEXT FUNDS)日経平均インバース上場投信</td>\n      <td>日経平均インバース</td>\n      <td>995</td>\n      <td>1</td>\n      <td>野村</td>\n      <td>0.80%</td>\n    </tr>\n    <tr>\n      <th>6</th>\n      <td>2529</td>\n      <td>(NEXT FUNDS)野村株主還元70連動型上場投信</td>\n      <td>野村株主還元70</td>\n      <td>1,043</td>\n      <td>1</td>\n      <td>野村</td>\n      <td>0.28%</td>\n    </tr>\n    <tr>\n      <th>7</th>\n      <td>2518</td>\n      <td>(NEXT FUNDS) MSCI日本株女性活躍(セレクト)上場投信</td>\n      <td>MSCI日本株女性活躍セレクト</td>\n      <td>1,120</td>\n      <td>1</td>\n      <td>野村</td>\n      <td>0.15%</td>\n    </tr>\n    <tr>\n      <th>8</th>\n      <td>1343</td>\n      <td>(NEXT FUNDS)東証REIT指数連動型上場投信</td>\n      <td>東証REIT指数</td>\n      <td>2,071</td>\n      <td>10</td>\n      <td>野村</td>\n      <td>0.16%</td>\n    </tr>\n    <tr>\n      <th>9</th>\n      <td>1471</td>\n      <td>(NEXT FUNDS)JPX日経400インバース</td>\n      <td>JPX日経400インバース</td>\n      <td>3,460</td>\n      <td>1</td>\n      <td>野村</td>\n      <td>0.80%</td>\n    </tr>\n  </tbody>\n</table>\n</div>"
     },
     "metadata": {},
     "execution_count": 10
    }
   ],
   "source": [
    "code_list = pd.read_csv('code_list.csv')\n",
    "code_list.head(10)"
   ]
  },
  {
   "source": [
    "## まとめコード\n",
    "最後に上記のコードを関数化し、複数の銘柄コードを取得するコードにしておきます。\n",
    "古い年月まで含めるとデータがないですよと怒られることがあるので、try文を使ってエラー回避しています。最後にcsvで保存しておきます。"
   ],
   "cell_type": "markdown",
   "metadata": {}
  },
  {
   "cell_type": "code",
   "execution_count": 17,
   "metadata": {},
   "outputs": [
    {
     "output_type": "stream",
     "name": "stdout",
     "text": [
      "1477 iシェアーズ MSCI 日本株最小分散 ETF\n",
      "2015\n",
      "2016\n",
      "2017\n",
      "2018\n",
      "2019\n",
      "2020\n",
      "2021\n",
      "1478 iシェアーズ MSCI ジャパン高配当利回り ETF\n",
      "2015\n",
      "2016\n",
      "2017\n",
      "2018\n",
      "2019\n",
      "2020\n",
      "2021\n",
      "1475 iシェアーズ TOPIX ETF\n",
      "2015\n",
      "2016\n",
      "2017\n",
      "2018\n",
      "2019\n",
      "2020\n",
      "2021\n"
     ]
    }
   ],
   "source": [
    "from bs4 import BeautifulSoup\n",
    "import pandas as pd\n",
    "import requests\n",
    "from datetime import datetime\n",
    "\n",
    "def get_dfs(stock_number):\n",
    "    dfs = []\n",
    "    #year = [2011,2012,2013,2014,2015,2016,2017,2018,2019,2020,2021] #2017〜2019年までの株価データを取得\n",
    "    #for y in year:\n",
    "    year_begin = 2015\n",
    "    year_end = 2022\n",
    "    for y in range(year_begin,year_end):\n",
    "        try:\n",
    "            print(y)\n",
    "            url = 'https://kabuoji3.com/stock/{}/{}/'.format(stock_number,y)\n",
    "            headers = {\"User-Agent\": \"Mozilla/5.0 (Macintosh; Intel Mac OS X 10_15_6) AppleWebKit/605.1.15 (KHTML, like Gecko) Version/14.0.2 Safari/605.1.15 \"\n",
    "            }\n",
    "            soup = BeautifulSoup(requests.get(url, headers = headers).content,'html.parser')\n",
    "            tag_tr = soup.find_all('tr')\n",
    "            head = [h.text for h in tag_tr[0].find_all('th')]\n",
    "            data = []\n",
    "            for i in range(1,len(tag_tr)):\n",
    "                data.append([d.text for d in tag_tr[i].find_all('td')])\n",
    "            df = pd.DataFrame(data, columns = head)\n",
    "\n",
    "            col = ['始値','高値','安値','終値','出来高','終値調整']\n",
    "            for c in col:\n",
    "                df[c] = df[c].astype(float)\n",
    "            df['日付'] = [datetime.strptime(i,'%Y-%m-%d') for i in df['日付']]\n",
    "            dfs.append(df)\n",
    "        except IndexError:\n",
    "            print('No data')\n",
    "    return dfs\n",
    "\n",
    "def concatenate(dfs):\n",
    "    data = pd.concat(dfs,axis=0)\n",
    "    data = data.reset_index(drop=True)\n",
    "    col = ['始値','高値','安値','終値','出来高','終値調整']\n",
    "    for c in col:\n",
    "        data[c] = data[c].astype(float)\n",
    "    return data\n",
    "\n",
    "#作成したコードリストを読み込む\n",
    "code_list = pd.read_csv('code_list.csv')\n",
    "\n",
    "#複数のデータフレームをcsvで保存\n",
    "for i in range(len(code_list)):\n",
    "    k = code_list.loc[i,'code']\n",
    "    v = code_list.loc[i,'name']\n",
    "    print(k,v)\n",
    "    dfs = get_dfs(k)\n",
    "    data = concatenate(dfs) \n",
    "    #data.to_csv('{}-{}.csv'.format(k,v))\n",
    "    data.to_csv('{}.csv'.format(k))     #一行上の行でエラーはいたらこっち"
   ]
  },
  {
   "cell_type": "code",
   "execution_count": null,
   "metadata": {},
   "outputs": [],
   "source": []
  }
 ]
}