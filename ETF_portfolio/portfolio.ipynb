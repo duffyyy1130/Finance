{
 "metadata": {
  "language_info": {
   "codemirror_mode": {
    "name": "ipython",
    "version": 3
   },
   "file_extension": ".py",
   "mimetype": "text/x-python",
   "name": "python",
   "nbconvert_exporter": "python",
   "pygments_lexer": "ipython3",
   "version": "3.8.0-final"
  },
  "orig_nbformat": 2,
  "kernelspec": {
   "name": "python3",
   "display_name": "Python 3.8.0 64-bit",
   "metadata": {
    "interpreter": {
     "hash": "fe5656c614ed49ae0d940a02e18a4e79e27ac1a6e7394b387f34db37ee0d3976"
    }
   }
  }
 },
 "nbformat": 4,
 "nbformat_minor": 2,
 "cells": [
  {
   "source": [
    "## 時系列データ 読み込み\n"
   ],
   "cell_type": "markdown",
   "metadata": {}
  },
  {
   "cell_type": "code",
   "execution_count": 87,
   "metadata": {},
   "outputs": [],
   "source": [
    "import pandas as pd\n",
    "import numpy as np\n",
    "import os\n",
    "import glob\n",
    "import datetime\n",
    "import jpholiday"
   ]
  },
  {
   "cell_type": "code",
   "execution_count": 88,
   "metadata": {},
   "outputs": [
    {
     "output_type": "stream",
     "name": "stdout",
     "text": [
      "all stock file :  ['1477.csv', '1478.csv', '1475.csv']\n"
     ]
    }
   ],
   "source": [
    "#ディレクトリ内のファイル一覧を取得\n",
    "path = \"/Volumes/GoogleDrive/マイドライブ/Univ/Finance/ETF_portfolio/portfolio_2021_2_22/\"\n",
    "files = glob.glob( path + \"*\" )\n",
    "file_list = []\n",
    "for file in files:\n",
    "    basename = os.path.basename(file)\n",
    "    file_list.append(basename)\n",
    "print(\"all stock file : \",file_list)"
   ]
  },
  {
   "cell_type": "code",
   "execution_count": 89,
   "metadata": {},
   "outputs": [
    {
     "output_type": "stream",
     "name": "stdout",
     "text": [
      "1477.csv : length = 1281\n1478.csv : length = 1290\n1475.csv : length = 1290\n日付\n2015-10-20    1501.0\n2015-10-21    1527.0\n2015-10-22    1520.0\n2015-10-23    1549.0\n2015-10-26    1560.0\n               ...  \n2021-01-29    1848.0\n2021-02-01    1875.0\n2021-02-02    1891.0\n2021-02-03    1917.0\n2021-02-12    1966.0\nName: 終値, Length: 1290, dtype: float64\n"
     ]
    }
   ],
   "source": [
    "#スクレイピングした株価データから日付，終値だけのデータフレームを生成\n",
    "data_csv = []\n",
    "for f in file_list:\n",
    "    print(f,end=\"\")\n",
    "    df = pd.read_csv( path + f ,index_col=0)\n",
    "    df_i = df.set_index('日付')         #日付をインデックスとして指定\n",
    "    df_i = df_i[\"終値\"]\n",
    "    data_csv.append(df_i)\n",
    "    print(\" : length =\" , len(df))\n",
    "print(data_csv[2])"
   ]
  },
  {
   "cell_type": "code",
   "execution_count": 90,
   "metadata": {},
   "outputs": [
    {
     "output_type": "stream",
     "name": "stdout",
     "text": [
      "1670.0\n"
     ]
    }
   ],
   "source": [
    "df = data_csv[0]\n",
    "print(df[\"2015-10-20\"])"
   ]
  },
  {
   "cell_type": "code",
   "execution_count": 103,
   "metadata": {
    "tags": []
   },
   "outputs": [],
   "source": [
    "# スクレイピングした株価データよみこみ ================================================================\n",
    "data_csv = []\n",
    "for f in file_list:\n",
    "    df = pd.read_csv( path + f )\n",
    "    data_csv.append(df)\n",
    "\n",
    "# 複数のcsvの中で一番データ数の多いデータから市場の開場日一覧を取得 ==================================================\n",
    "length = []\n",
    "for df in data_csv:\n",
    "    leng = len(df)\n",
    "    length.append(leng) \n",
    "date_len = length.index(max(length))\n",
    "df_date = data_csv[date_len]\n",
    "date = df_date[\"日付\"]\n",
    "#print(date[2])\n",
    "\n",
    "\n",
    "# スクレイピングした株価データから日付，終値だけのデータフレームを生成 ================================\n",
    "data_csv = []\n",
    "for f in file_list:\n",
    "    #print(f,end=\"\")\n",
    "    df = pd.read_csv( path + f ,index_col=0)\n",
    "    df_i = df.set_index('日付')         #日付をインデックスとして指定\n",
    "    df_i = df_i[\"終値\"]\n",
    "    data_csv.append(df_i)\n",
    "    #print(\" : length =\" , len(df))\n",
    "\n",
    "#date[0] == \"2015-10-20\" & data_csvは日付をインデックスとして指定しているので以下の2つの参照文は同じ結果を返す．\n",
    "#print(data_csv[2][\"2015-10-20\"])\n",
    "#print(data_csv[2][date[0]])\n",
    "\n",
    "# 株価欠損値をnanで表現 ================================================================================\n",
    "# (1) data_csv中からdfを一つとってくる \n",
    "#     data_price = []作成(nan入れた終値を格納するリスト)\n",
    "# (2) dateから日付インデックスでfor文\n",
    "#     try文でdf[date]を取得\n",
    "#        要素があったらdata_priceに格納\n",
    "#     except文：なかったら'nan'をdata_priceに格納\n",
    "\n",
    "\"\"\"\n",
    "# 例) 例外処理込みでdfの要素表示\n",
    "for yyyymmdd in date:\n",
    "    print(yyyymmdd)\n",
    "    df = data_csv[0]\n",
    "    try:\n",
    "        print(df[yyyymmdd])\n",
    "    except KeyError:\n",
    "        print(\"nan\")\n",
    "\"\"\"\n",
    "\n",
    "# 例) data_csv[0]を欠損値込み形式にする\n",
    "df = data_csv[0]\n",
    "data_price_0 = []\n",
    "for yyyymmdd in date:\n",
    "    try:\n",
    "        data_yyyymmdd = df[yyyymmdd]\n",
    "        data_price_0.append(data_yyyymmdd)\n",
    "    except KeyError:\n",
    "        data_yyyymmdd = np.nan\n",
    "        data_price_0.append(data_yyyymmdd)\n",
    "    #print(date, \":\", data_yyyymmdd)\n",
    "#print(len(data_price_0))"
   ]
  },
  {
   "cell_type": "code",
   "execution_count": 105,
   "metadata": {
    "tags": []
   },
   "outputs": [
    {
     "output_type": "stream",
     "name": "stdout",
     "text": [
      "1290\n日付\n2021-01-04    1818.0\n2021-01-04    1818.0\n2021-01-04    1818.0\n2021-01-04    1818.0\n2021-01-04    1818.0\n2021-01-04    1818.0\nName: 終値, dtype: float64\n<class 'pandas.core.series.Series'>\n日付\n2021-01-04    1818.0\n2021-01-04    1818.0\n2021-01-04    1818.0\n2021-01-04    1818.0\n2021-01-04    1818.0\n2021-01-04    1818.0\nName: 終値, dtype: float64\n"
     ]
    }
   ],
   "source": [
    "#for i in range(len(data_price_0)):\n",
    "#    print(date[i])\n",
    "#    print(data_price_0[i])\n",
    "print(len(data_price_0))\n",
    "print(data_price_0[1264])\n",
    "print(type(data_price_0[1264]))\n",
    "#for i in range(1250,1277):\n",
    "#   print(i, \":\", data_price_0[i])\n",
    "print(df[\"2021-01-04\"])"
   ]
  },
  {
   "cell_type": "code",
   "execution_count": 52,
   "metadata": {},
   "outputs": [
    {
     "output_type": "stream",
     "name": "stdout",
     "text": [
      "<class 'pandas.core.series.Series'>\nnan\n0    1.0\n1    2.0\n2    NaN\ndtype: float64\n"
     ]
    }
   ],
   "source": [
    "test_frame = data_csv[2]\n",
    "#print(test_frame.col_1)\n",
    "print(type(test_frame))\n",
    "print(1 + np.nan)\n",
    "print(pd.Series([1, 2, None]))"
   ]
  },
  {
   "cell_type": "code",
   "execution_count": 37,
   "metadata": {},
   "outputs": [
    {
     "output_type": "stream",
     "name": "stdout",
     "text": [
      "           0       1\n1276  1824.0  1993.0\n1277  1833.0  2000.0\n1278  1839.0  2003.0\n1279  1862.0  2021.0\n"
     ]
    }
   ],
   "source": [
    "# dataframe作成の練習\n",
    "\n",
    "# リストから作成\n",
    "lst = [\"Jay\",\"Raj\",\"Jack\"]\n",
    "df = pd.DataFrame(lst, columns = ['Name'])\n",
    "#print(df)\n",
    "\n",
    "lst1 = [\"Jay\",\"Raj\",\"Jack\"]\n",
    "lst2 = [12,15,14]\n",
    "df = pd.DataFrame(list(zip(lst1,lst2)), columns = ['Name','Age'])\n",
    "#print(df)\n",
    "\n",
    "\n",
    "df = pd.DataFrame(list(zip(data_csv[0],data_csv[1])))\n",
    "print(df[1276:1280])"
   ]
  },
  {
   "cell_type": "code",
   "execution_count": 60,
   "metadata": {},
   "outputs": [
    {
     "output_type": "stream",
     "name": "stdout",
     "text": [
      "日付\n1900/1/1    2.0\n1900/4/7    NaN\nName: 数字, dtype: float64\n<class 'numpy.float64'>\n<class 'numpy.float64'>\n<class 'float'>\nnan\n<class 'numpy.float64'>\n"
     ]
    }
   ],
   "source": [
    "# 欠損値処理の練習\n",
    "df_t = pd.read_csv( \"test.csv\" ,index_col=0)\n",
    "df_t = df_t[\"数字\"]\n",
    "print(df_t)\n",
    "print(type(df_t[0]))\n",
    "print(type(df_t[1]))\n",
    "print(type(np.nan))\n",
    "print(df_t[0] + df_t[1])\n",
    "print(type(df_t[0] + df_t[1]))"
   ]
  },
  {
   "cell_type": "code",
   "execution_count": null,
   "metadata": {},
   "outputs": [],
   "source": []
  }
 ]
}