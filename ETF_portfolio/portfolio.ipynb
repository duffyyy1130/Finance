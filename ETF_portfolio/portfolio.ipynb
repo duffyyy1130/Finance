{
 "metadata": {
  "language_info": {
   "codemirror_mode": {
    "name": "ipython",
    "version": 3
   },
   "file_extension": ".py",
   "mimetype": "text/x-python",
   "name": "python",
   "nbconvert_exporter": "python",
   "pygments_lexer": "ipython3",
   "version": "3.8.0-final"
  },
  "orig_nbformat": 2,
  "kernelspec": {
   "name": "python3",
   "display_name": "Python 3.8.0 64-bit",
   "metadata": {
    "interpreter": {
     "hash": "fe5656c614ed49ae0d940a02e18a4e79e27ac1a6e7394b387f34db37ee0d3976"
    }
   }
  }
 },
 "nbformat": 4,
 "nbformat_minor": 2,
 "cells": [
  {
   "source": [
    "## 時系列データ 読み込み\n"
   ],
   "cell_type": "markdown",
   "metadata": {}
  },
  {
   "cell_type": "code",
   "execution_count": 1,
   "metadata": {},
   "outputs": [],
   "source": [
    "import pandas as pd\n",
    "import os\n",
    "import glob"
   ]
  },
  {
   "cell_type": "code",
   "execution_count": 2,
   "metadata": {},
   "outputs": [
    {
     "output_type": "stream",
     "name": "stdout",
     "text": [
      "all stock file :  ['1477.csv', '1478.csv', '1475.csv']\n"
     ]
    }
   ],
   "source": [
    "#ディレクトリ内のファイル一覧を取得\n",
    "path = \"/Volumes/GoogleDrive/マイドライブ/Univ/Finance/ETF_portfolio/portfolio_2021_2_22/\"\n",
    "files = glob.glob( path + \"*\" )\n",
    "file_list = []\n",
    "for file in files:\n",
    "    basename = os.path.basename(file)\n",
    "    file_list.append(basename)\n",
    "print(\"all stock file : \",file_list)"
   ]
  },
  {
   "cell_type": "code",
   "execution_count": 3,
   "metadata": {},
   "outputs": [
    {
     "output_type": "stream",
     "name": "stdout",
     "text": [
      "1477.csv : length = 1281\n1478.csv : length = 1290\n1475.csv : length = 1290\n日付\n2015-10-20    1501.0\n2015-10-21    1527.0\n2015-10-22    1520.0\n2015-10-23    1549.0\n2015-10-26    1560.0\n               ...  \n2021-01-29    1848.0\n2021-02-01    1875.0\n2021-02-02    1891.0\n2021-02-03    1917.0\n2021-02-12    1966.0\nName: 終値, Length: 1290, dtype: float64\n"
     ]
    }
   ],
   "source": [
    "#スクレイピングした株価データから日付，終値だけのデータフレームを生成\n",
    "data_csv = []\n",
    "for f in file_list:\n",
    "    print(f,end=\"\")\n",
    "    df = pd.read_csv( path + f ,index_col=0)\n",
    "    df_i = df.set_index('日付')         #日付をインデックスとして指定\n",
    "    df_i = df_i[\"終値\"]\n",
    "    data_csv.append(df_i)\n",
    "    print(\" : length =\" , len(df))\n",
    "print(data_csv[2])"
   ]
  },
  {
   "cell_type": "code",
   "execution_count": 4,
   "metadata": {},
   "outputs": [
    {
     "output_type": "stream",
     "name": "stdout",
     "text": [
      "1501.0\n"
     ]
    }
   ],
   "source": [
    "df = data_csv[2]\n",
    "print(df[\"2015-10-20\"])"
   ]
  },
  {
   "cell_type": "code",
   "execution_count": 5,
   "metadata": {},
   "outputs": [
    {
     "output_type": "stream",
     "name": "stdout",
     "text": [
      "1477.csv : length = 1281\n1478.csv : length = 1290\n1475.csv : length = 1290\n1501.0\n1501.0\n"
     ]
    }
   ],
   "source": [
    "# スクレイピングした株価データよみこみ ================================================================\n",
    "data_csv = []\n",
    "for f in file_list:\n",
    "    df = pd.read_csv( path + f )\n",
    "    data_csv.append(df)\n",
    "\n",
    "# 市場の開場日一覧を取得 ======================================================================\n",
    "length = []\n",
    "for df in data_csv:\n",
    "    leng = len(df)\n",
    "    length.append(leng) \n",
    "date_len = length.index(max(length))\n",
    "df_date = data_csv[date_len]\n",
    "date = df_date[\"日付\"]\n",
    "\n",
    "\n",
    "# スクレイピングした株価データから日付，終値だけのデータフレームを生成 ================================\n",
    "data_csv = []\n",
    "for f in file_list:\n",
    "    print(f,end=\"\")\n",
    "    df = pd.read_csv( path + f ,index_col=0)\n",
    "    df_i = df.set_index('日付')         #日付をインデックスとして指定\n",
    "    df_i = df_i[\"終値\"]\n",
    "    data_csv.append(df_i)\n",
    "    print(\" : length =\" , len(df))\n",
    "print(data_csv[2][\"2015-10-20\"])\n",
    "print(data_csv[2][date[0]])\n",
    "\n",
    "# 株価欠損値をnanで表現 ================================================================================"
   ]
  },
  {
   "cell_type": "code",
   "execution_count": 8,
   "metadata": {},
   "outputs": [
    {
     "output_type": "stream",
     "name": "stdout",
     "text": [
      "日付\n2015-10-20    1501.0\n2015-10-21    1527.0\n2015-10-22    1520.0\n2015-10-23    1549.0\n2015-10-26    1560.0\n               ...  \n2021-01-29    1848.0\n2021-02-01    1875.0\n2021-02-02    1891.0\n2021-02-03    1917.0\n2021-02-12    1966.0\nName: 終値, Length: 1290, dtype: float64\n"
     ]
    }
   ],
   "source": [
    "print(data_csv[2])"
   ]
  },
  {
   "cell_type": "code",
   "execution_count": 7,
   "metadata": {},
   "outputs": [
    {
     "output_type": "stream",
     "name": "stdout",
     "text": [
      "   Name\n0   Jay\n1   Raj\n2  Jack\n   Name  Age\n0   Jay   12\n1   Raj   15\n2  Jack   14\n"
     ]
    }
   ],
   "source": [
    "# dataframe作成の練習\n",
    "\n",
    "# リストから作成\n",
    "lst = [\"Jay\",\"Raj\",\"Jack\"]\n",
    "df = pd.DataFrame(lst, columns = ['Name'])\n",
    "print(df)\n",
    "\n",
    "lst1 = [\"Jay\",\"Raj\",\"Jack\"]\n",
    "lst2 = [12,15,14]\n",
    "df = pd.DataFrame(list(zip(lst1,lst2)), columns = ['Name','Age'])\n",
    "print(df)"
   ]
  },
  {
   "cell_type": "code",
   "execution_count": 52,
   "metadata": {},
   "outputs": [
    {
     "output_type": "stream",
     "name": "stdout",
     "text": [
      "2.0\n"
     ]
    },
    {
     "output_type": "execute_result",
     "data": {
      "text/plain": [
       "nan"
      ]
     },
     "metadata": {},
     "execution_count": 52
    }
   ],
   "source": [
    "# 欠損値処理の練習\n",
    "df_t = pd.read_csv( \"test.csv\" ,index_col=0)\n",
    "df_t = df_t[\"数字\"]\n",
    "print(df_t[0])\n",
    "sum(df_t)"
   ]
  },
  {
   "cell_type": "code",
   "execution_count": null,
   "metadata": {},
   "outputs": [],
   "source": []
  }
 ]
}