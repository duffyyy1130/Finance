{
 "metadata": {
  "language_info": {
   "codemirror_mode": {
    "name": "ipython",
    "version": 3
   },
   "file_extension": ".py",
   "mimetype": "text/x-python",
   "name": "python",
   "nbconvert_exporter": "python",
   "pygments_lexer": "ipython3",
   "version": "3.8.0-final"
  },
  "orig_nbformat": 2,
  "kernelspec": {
   "name": "python3",
   "display_name": "Python 3.8.0 64-bit ('.pyenv': pyenv)",
   "metadata": {
    "interpreter": {
     "hash": "fe5656c614ed49ae0d940a02e18a4e79e27ac1a6e7394b387f34db37ee0d3976"
    }
   }
  }
 },
 "nbformat": 4,
 "nbformat_minor": 2,
 "cells": [
  {
   "source": [
    "## 時系列データ 読み込み\n"
   ],
   "cell_type": "markdown",
   "metadata": {}
  },
  {
   "cell_type": "code",
   "execution_count": 64,
   "metadata": {},
   "outputs": [],
   "source": [
    "import pandas as pd\n",
    "import numpy as np\n",
    "import os\n",
    "import glob\n",
    "import datetime\n",
    "import jpholiday"
   ]
  },
  {
   "cell_type": "code",
   "execution_count": 65,
   "metadata": {},
   "outputs": [
    {
     "output_type": "stream",
     "name": "stdout",
     "text": [
      "all csv file :  ['1477.csv', '1478.csv', '1475.csv']\n"
     ]
    }
   ],
   "source": [
    "# ディレクトリ内のファイル一覧を取得\n",
    "path = \"/Volumes/GoogleDrive/マイドライブ/Univ/Finance/ETF_portfolio/portfolio_2021_2_22/\"\n",
    "files = glob.glob( path + \"*\" )\n",
    "file_list = []\n",
    "for file in files:\n",
    "    basename = os.path.basename(file)\n",
    "    file_list.append(basename)\n",
    "print(\"all csv file : \",file_list)"
   ]
  },
  {
   "cell_type": "code",
   "execution_count": 66,
   "metadata": {},
   "outputs": [
    {
     "output_type": "stream",
     "name": "stdout",
     "text": [
      "1477.csv : length = 1282\n1478.csv : length = 1291\n1475.csv : length = 1291\n日付\n2015-10-20    1501.0\n2015-10-21    1527.0\n2015-10-22    1520.0\n2015-10-23    1549.0\n2015-10-26    1560.0\n               ...  \n2021-02-01    1875.0\n2021-02-02    1891.0\n2021-02-03    1917.0\n2021-02-12    1966.0\n2021-02-24    1939.0\nName: 終値, Length: 1291, dtype: float64\n"
     ]
    }
   ],
   "source": [
    "# スクレイピングした株価データから日付，終値だけのデータフレームを生成\n",
    "data_csv = []\n",
    "for f in file_list:\n",
    "    print(f,end=\"\")\n",
    "    df = pd.read_csv( path + f ,index_col=0)\n",
    "    df_i = df.set_index('日付')         #日付をインデックスとして指定\n",
    "    df_i = df_i[\"終値\"]\n",
    "    data_csv.append(df_i)\n",
    "    print(\" : length =\" , len(df))\n",
    "print(data_csv[2])"
   ]
  },
  {
   "cell_type": "code",
   "execution_count": 68,
   "metadata": {
    "tags": []
   },
   "outputs": [
    {
     "output_type": "stream",
     "name": "stdout",
     "text": [
      "            1477.csv  1478.csv  1475.csv\ndate                                    \n2015-10-20    1670.0    1820.0    1501.0\n2015-10-21    1700.0    1865.0    1527.0\n2015-10-22    1705.0    1860.0    1520.0\n2015-10-23    1735.0    1903.0    1549.0\n2015-10-26    1750.0    1909.0    1560.0\n...              ...       ...       ...\n2021-02-01    1833.0    1989.0    1875.0\n2021-02-02    1839.0    2002.0    1891.0\n2021-02-03    1862.0    2048.0    1917.0\n2021-02-12    1888.0    2084.0    1966.0\n2021-02-24    1839.0    2038.0    1939.0\n\n[1291 rows x 3 columns]\n"
     ]
    }
   ],
   "source": [
    "# スクレイピングした株価データよみこみ ================================================================\n",
    "data_csv = []\n",
    "for f in file_list:\n",
    "    df = pd.read_csv( path + f )\n",
    "    data_csv.append(df)\n",
    "\n",
    "# 複数のcsvの中で一番データ数の多いデータから市場の開場日一覧を取得 ==================================================\n",
    "length = []\n",
    "for df in data_csv:\n",
    "    leng = len(df)\n",
    "    length.append(leng) \n",
    "date_len = length.index(max(length))\n",
    "df_date = data_csv[date_len]\n",
    "date = df_date[\"日付\"]\n",
    "\n",
    "\n",
    "# スクレイピングした株価データから日付，終値だけのデータフレームを生成 ================================\n",
    "data_csv = []\n",
    "for f in file_list:\n",
    "    #print(f,end=\"\")\n",
    "    df = pd.read_csv( path + f ,index_col=0)\n",
    "    df_i = df.set_index('日付')         #日付をインデックスとして指定\n",
    "    df_i = df_i[\"終値\"]\n",
    "    data_csv.append(df_i)\n",
    "\n",
    "\n",
    "# date[0] == \"2015-10-20\" & data_csv は日付をインデックスとして指定しているので以下の2つの参照文は同じ結果を返す．\n",
    "#print(data_csv[2][\"2015-10-20\"])\n",
    "#print(data_csv[2][date[0]])\n",
    "\n",
    "# 株価欠損値をnanで表現 ================================================================================\n",
    "# (1) data_csv中からdfを一つとってくる \n",
    "#     data_stock = pd.dataframeを作成 (欠損値処理後のデータ組のを格納するdataframe)\n",
    "#     d = []作成 (dfに欠損値処理したあとのデータを格納するリスト)\n",
    "data_stock = pd.DataFrame()\n",
    "data_stock[\"date\"] = date       #一列目に日付インデックスを入れる\n",
    "for i in range(len(data_csv)):\n",
    "    df = data_csv[i]\n",
    "    d =[]\n",
    "# (2) dateから日付インデックスyyyymmddでfor文\n",
    "#     try文でdf[date]を取得\n",
    "#        要素があったらdata_priceに格納\n",
    "#           要素が複数あったら例外処理(データ型が配列になっているか数値かで判定)\n",
    "#     except文：なかったら'nan'をdata_priceに格納\n",
    "    for yyyymmdd in date:\n",
    "        try:\n",
    "            df[yyyymmdd]\n",
    "            # csv内で同じ日付の要素が複数あったときの処理\n",
    "            # df[yyyymmdd]の型がリストpd.seriesかfloatかで判別\n",
    "            if type(df[yyyymmdd]) == pd.core.series.Series:\n",
    "                # データ型がpd.seriesならseriesの1つ目の要素を取得\n",
    "                data_yyyymmdd = df[yyyymmdd][0]\n",
    "            else:\n",
    "                # データ型がfloatならそのまま取得\n",
    "                data_yyyymmdd = df[yyyymmdd]\n",
    "        except KeyError:\n",
    "            # 存在しない日付データはnanとして取得\n",
    "            data_yyyymmdd = np.nan\n",
    "        d.append(data_yyyymmdd)\n",
    "    data_stock[str(file_list[i])] = d\n",
    "# 日付をインデックスに指定\n",
    "data_stock = data_stock.set_index('date')\n",
    "# csvに保存\n",
    "data_stock.to_csv(path + \"data_stock.csv\")\n",
    "print(data_stock)"
   ]
  },
  {
   "cell_type": "code",
   "execution_count": 138,
   "metadata": {
    "tags": []
   },
   "outputs": [
    {
     "output_type": "stream",
     "name": "stdout",
     "text": [
      "            1477.csv  1478.csv  1475.csv\ndate                                    \n2015-10-20       NaN       NaN       NaN\n2015-10-21  0.017964  0.024725  0.017322\n2015-10-22  0.002941 -0.002681 -0.004584\n2015-10-23  0.017595  0.023118  0.019079\n2015-10-26  0.008646  0.003153  0.007101\n...              ...       ...       ...\n2021-02-01  0.004934  0.005561  0.014610\n2021-02-02  0.003273  0.006536  0.008533\n2021-02-03  0.012507  0.022977  0.013749\n2021-02-12  0.013963  0.017578  0.025561\n2021-02-24 -0.025953 -0.022073 -0.013733\n\n[1291 rows x 3 columns]\n"
     ]
    }
   ],
   "source": [
    "# 収益率の計算をする関数\n",
    "def cal_return(data):\n",
    "    ret = [np.nan]\n",
    "    for i in range(1,len(data)):\n",
    "        ret.append( (data[i] - data[i-1])/data[i-1] )\n",
    "    return(ret)\n",
    "\n",
    "# データ全てに対して収益率の計算\n",
    "return_data = pd.DataFrame()\n",
    "return_data[\"date\"] = date\n",
    "for i in range(len(file_list)):\n",
    "    fname = file_list[i]\n",
    "    data = data_stock[fname]\n",
    "    ret = cal_return(data)\n",
    "    return_data[fname] = ret\n",
    "return_data = return_data.set_index('date')\n",
    "print(return_data)"
   ]
  },
  {
   "source": [
    "## 平均分散モデル\n",
    "次の二次計画問題  \n",
    "  \n",
    "$ \\min\\   \\omega ^T \\Sigma \\omega $  \n",
    "$\\mbox{s.t}  \n",
    "\\begin{cases}\n",
    "\\omega^T \\mu = \\mu_p \\\\\n",
    "\\omega^T l = 1\n",
    "\\end{cases}\n",
    "$  \n",
    "  \n",
    "の解\n",
    "$\n",
    "\\Rightarrow \\omega_p = \\dfrac{C \\mu_p - A}{D}\\Sigma^{-1} \\mu + \\dfrac{B-A\\mu_p}{D}\\Sigma^{-1}l\n",
    "$  \n",
    "を計算する．ただし，  \n",
    "$\n",
    "\\begin{cases}\n",
    "A = \\mu^T \\Sigma^{-1} l \\\\\n",
    "B = \\mu^T \\Sigma^{-1} \\mu \\\\\n",
    "C = l^T \\Sigma^{-1} l \\\\\n",
    "D = l^T \\Sigma^{-1} \\mu = BC-A^2 \\\\\n",
    "\\mu_p:\\mbox{目標とする期待収益率} \\\\\n",
    "\\omega_p:\\mbox{最適ポートフォリオの投資比率}\n",
    "\\end{cases}\n",
    "$"
   ],
   "cell_type": "markdown",
   "metadata": {}
  },
  {
   "cell_type": "code",
   "execution_count": 133,
   "metadata": {},
   "outputs": [
    {
     "output_type": "stream",
     "name": "stdout",
     "text": [
      "[-10392.12856686  -7179.7532401   17572.88180696]\n"
     ]
    }
   ],
   "source": [
    "# 平均分散モデルで分散最小化 =======================================================\n",
    "# 平均分散モデルの解を計算する関数\n",
    "def optimal_portfolio(data, return_rate):\n",
    "    # 分散共分散行列をndarrayに変換して逆行列を計算\n",
    "    sigma = data.cov()\n",
    "    sigma = sigma.values\n",
    "    sigma_inv = np.linalg.inv(sigma)\n",
    "    # 期待収益率ベクトルを計算\n",
    "    mu = data.mean()\n",
    "    mu = mu.values\n",
    "    # 成分がすべて1で長さが期待収益率ベクトルと等しいベクトル l を生成\n",
    "    l = np.ones(len(mu))\n",
    "    # A,B,C,Dを計算\n",
    "    A = np.dot(mu, np.dot(sigma_inv, l) )\n",
    "    B = np.dot(mu, np.dot(sigma_inv, mu))\n",
    "    C = np.dot(l, np.dot(sigma_inv, l))\n",
    "    D = B*C-A*A\n",
    "\n",
    "    # 最適投資比率 omega を計算\n",
    "    omega = ((C*return_rate - A)/D)*np.dot(sigma_inv, mu) + ( (B - A*return_rate)/D )*np.dot(sigma_inv, l)\n",
    "\n",
    "    return(omega)\n",
    "\n",
    "# データから最適投資比率を計算 =======================================================\n",
    "omega_p = optimal_portfolio(return_data, 2)\n",
    "print(omega_p)"
   ]
  },
  {
   "source": [
    "## 練習"
   ],
   "cell_type": "markdown",
   "metadata": {}
  },
  {
   "cell_type": "code",
   "execution_count": null,
   "metadata": {},
   "outputs": [],
   "source": [
    "# 例外処理の練習 =======================================================\n",
    "\n",
    "# 例) 例外処理込みでdfの要素表示\n",
    "for yyyymmdd in date:\n",
    "    print(yyyymmdd)\n",
    "    df = data_csv[0]\n",
    "    try:\n",
    "        print(df[yyyymmdd])\n",
    "    except KeyError:\n",
    "        print(\"nan\")\n",
    "\n",
    "# 例) data_csv[0]を欠損値込み形式にする\n",
    "df = data_csv[0]\n",
    "data_price_0 = []\n",
    "for yyyymmdd in date:\n",
    "    try:\n",
    "        data_yyyymmdd = df[yyyymmdd]\n",
    "        # csv内で同じ日付の要素が複数あったときの処理\n",
    "        # df[yyyymmdd]の型がリストpd.seriesかfloatかで判別\n",
    "        if type(df[yyyymmdd]) == pd.core.series.Series:\n",
    "            # データ型がpd.seriesならseriesの1つ目の要素を取得\n",
    "            data_yyyymmdd = df[yyyymmdd][0]\n",
    "        else:\n",
    "            # データ型がfloatならそのまま取得\n",
    "            data_yyyymmdd = df[yyyymmdd]\n",
    "    except KeyError:\n",
    "        # 存在しない日付の株式データはnanとして取得\n",
    "        data_yyyymmdd = np.nan\n",
    "    data_price_0.append(data_yyyymmdd)"
   ]
  },
  {
   "cell_type": "code",
   "execution_count": 8,
   "metadata": {
    "tags": []
   },
   "outputs": [
    {
     "output_type": "stream",
     "name": "stdout",
     "text": [
      "1290\n日付\n2021-01-04    1818.0\n2021-01-04    1818.0\n2021-01-04    1818.0\n2021-01-04    1818.0\n2021-01-04    1818.0\n2021-01-04    1818.0\nName: 終値, dtype: float64\n<class 'pandas.core.series.Series'>\n1818.0\nTrue\n"
     ]
    }
   ],
   "source": [
    "#for i in range(len(data_price_0)):\n",
    "#    print(date[i])\n",
    "#    print(data_price_0[i])\n",
    "print(len(data_price_0))\n",
    "print(data_price_0[1264])\n",
    "print(type(data_price_0[1264]))\n",
    "#for i in range(1250,1277):\n",
    "#   print(i, \":\", data_price_0[i])\n",
    "print(df[\"2021-01-04\"][0])\n",
    "print(type(df[\"2021-01-04\"])==pd.core.series.Series)"
   ]
  },
  {
   "cell_type": "code",
   "execution_count": 38,
   "metadata": {},
   "outputs": [
    {
     "output_type": "stream",
     "name": "stdout",
     "text": [
      "<class 'numpy.ndarray'>\nEmpty DataFrame\nColumns: [Name, Age]\nIndex: []\n"
     ]
    }
   ],
   "source": [
    "# dataframe作成の練習\n",
    "\n",
    "# リストから作成\n",
    "lst = [\"Jay\",\"Raj\",\"Jack\"]\n",
    "df = pd.DataFrame(lst, columns = ['Name'])\n",
    "#print(df)\n",
    "\n",
    "lst1 = [\"Jay\",\"Raj\",\"Jack\"]\n",
    "lst2 = [12,15,14]\n",
    "df = pd.DataFrame(list(zip(lst1,lst2)), columns = ['Name','Age'])\n",
    "#print(df)\n",
    "\n",
    "\n",
    "#df = pd.DataFrame(list(zip(data_csv[0],data_csv[1])))\n",
    "#df = pd.DataFrame( list( data_csv ) ) \n",
    "index = date.values\n",
    "print(type(index))\n",
    "#df = pd.DataFrame(data_csv[0], index=index)\n",
    "print(df[1276:1280])"
   ]
  },
  {
   "cell_type": "code",
   "execution_count": 60,
   "metadata": {},
   "outputs": [
    {
     "output_type": "stream",
     "name": "stdout",
     "text": [
      "日付\n1900/1/1    2.0\n1900/4/7    NaN\nName: 数字, dtype: float64\n<class 'numpy.float64'>\n<class 'numpy.float64'>\n<class 'float'>\nnan\n<class 'numpy.float64'>\n"
     ]
    }
   ],
   "source": [
    "# 欠損値処理の練習\n",
    "df_t = pd.read_csv( \"test.csv\" ,index_col=0)\n",
    "df_t = df_t[\"数字\"]\n",
    "print(df_t)\n",
    "print(type(df_t[0]))\n",
    "print(type(df_t[1]))\n",
    "print(type(np.nan))\n",
    "print(df_t[0] + df_t[1])\n",
    "print(type(df_t[0] + df_t[1]))"
   ]
  },
  {
   "cell_type": "code",
   "execution_count": 45,
   "metadata": {},
   "outputs": [
    {
     "output_type": "stream",
     "name": "stdout",
     "text": [
      "            date    1577\n0     2015-10-20  1670.0\n1     2015-10-21  1700.0\n2     2015-10-22  1705.0\n3     2015-10-23  1735.0\n4     2015-10-26  1750.0\n...          ...     ...\n1285  2021-01-29  1824.0\n1286  2021-02-01  1833.0\n1287  2021-02-02  1839.0\n1288  2021-02-03  1862.0\n1289  2021-02-12  1888.0\n\n[1290 rows x 2 columns]\n"
     ]
    }
   ],
   "source": [
    "test = pd.DataFrame()\n",
    "test[\"date\"] = date\n",
    "test[\"1577\"] = data_price_0 \n",
    "print(test)"
   ]
  },
  {
   "cell_type": "code",
   "execution_count": 52,
   "metadata": {},
   "outputs": [
    {
     "output_type": "stream",
     "name": "stdout",
     "text": [
      "            date  1477.csv  1478.csv  1475.csv\n0     2015-10-20    1670.0    1820.0    1501.0\n1     2015-10-21    1700.0    1865.0    1527.0\n2     2015-10-22    1705.0    1860.0    1520.0\n3     2015-10-23    1735.0    1903.0    1549.0\n4     2015-10-26    1750.0    1909.0    1560.0\n...          ...       ...       ...       ...\n1285  2021-01-29    1824.0    1978.0    1848.0\n1286  2021-02-01    1833.0    1989.0    1875.0\n1287  2021-02-02    1839.0    2002.0    1891.0\n1288  2021-02-03    1862.0    2048.0    1917.0\n1289  2021-02-12    1888.0    2084.0    1966.0\n\n[1290 rows x 4 columns]\n"
     ]
    }
   ],
   "source": [
    "# 株価欠損値をnanで表現 ================================================================================\n",
    "# (1) data_csv中からdfを一つとってくる \n",
    "#     data_stock = []作成 (欠損値処理を組み入れたデータを格納するリスト)\n",
    "#     d = []作成 (dfに欠損値処理したあとのデータを格納するリスト)\n",
    "data_stock = pd.DataFrame()\n",
    "data_stock[\"date\"] = date\n",
    "for i in range(len(data_csv)):\n",
    "    df = data_csv[i]\n",
    "    d =[]\n",
    "# (2) dateから日付インデックスyyyymmddでfor文\n",
    "#     try文でdf[date]を取得\n",
    "#        要素があったらdata_priceに格納\n",
    "#           要素が複数あったら例外処理(データ型が配列になっているか数値かで判定)\n",
    "#     except文：なかったら'nan'をdata_priceに格納\n",
    "    for yyyymmdd in date:\n",
    "        try:\n",
    "            df[yyyymmdd]\n",
    "            # csv内で同じ日付の要素が複数あったときの処理\n",
    "            # df[yyyymmdd]の型がリストpd.seriesかfloatかで判別\n",
    "            if type(df[yyyymmdd]) == pd.core.series.Series:\n",
    "                # データ型がpd.seriesならseriesの1つ目の要素を取得\n",
    "                data_yyyymmdd = df[yyyymmdd][0]\n",
    "            else:\n",
    "                # データ型がfloatならそのまま取得\n",
    "                data_yyyymmdd = df[yyyymmdd]\n",
    "        except KeyError:\n",
    "            # 存在しない日付データはnanとして取得\n",
    "            data_yyyymmdd = np.nan\n",
    "        d.append(data_yyyymmdd)\n",
    "    data_stock[str(file_list[i])] = d\n",
    "print(data_stock)"
   ]
  },
  {
   "cell_type": "code",
   "execution_count": null,
   "metadata": {},
   "outputs": [],
   "source": []
  }
 ]
}